{
 "cells": [
  {
   "cell_type": "markdown",
   "id": "personalized-archives",
   "metadata": {},
   "source": [
    "# 2장 연습문제"
   ]
  },
  {
   "cell_type": "markdown",
   "id": "looking-software",
   "metadata": {},
   "source": [
    "### Q1. 홍길동 씨의 과목별 점수는 다음과 같다. 홍길동 씨의 평균 점수를 구해보자."
   ]
  },
  {
   "cell_type": "code",
   "execution_count": 16,
   "id": "directed-homeless",
   "metadata": {},
   "outputs": [],
   "source": [
    "국어 = 80\n",
    "영어 = 75\n",
    "수학 = 55"
   ]
  },
  {
   "cell_type": "code",
   "execution_count": 11,
   "id": "dying-illustration",
   "metadata": {},
   "outputs": [],
   "source": [
    "a = {\"국어\":80, \"영어\":75, \"수학\":55}"
   ]
  },
  {
   "cell_type": "code",
   "execution_count": 13,
   "id": "pregnant-check",
   "metadata": {},
   "outputs": [
    {
     "data": {
      "text/plain": [
       "80"
      ]
     },
     "execution_count": 13,
     "metadata": {},
     "output_type": "execute_result"
    }
   ],
   "source": [
    "a[\"국어\"]"
   ]
  },
  {
   "cell_type": "code",
   "execution_count": 15,
   "id": "intended-baker",
   "metadata": {},
   "outputs": [
    {
     "data": {
      "text/plain": [
       "70.0"
      ]
     },
     "execution_count": 15,
     "metadata": {},
     "output_type": "execute_result"
    }
   ],
   "source": [
    "(a.get(\"국어\")+a.get(\"영어\")+a.get(\"수학\"))/3"
   ]
  },
  {
   "cell_type": "code",
   "execution_count": 17,
   "id": "equipped-galaxy",
   "metadata": {},
   "outputs": [
    {
     "data": {
      "text/plain": [
       "<function dict.keys>"
      ]
     },
     "execution_count": 17,
     "metadata": {},
     "output_type": "execute_result"
    }
   ],
   "source": [
    "a.keys"
   ]
  },
  {
   "cell_type": "code",
   "execution_count": 18,
   "id": "behavioral-bridges",
   "metadata": {},
   "outputs": [
    {
     "data": {
      "text/plain": [
       "dict_keys(['국어', '영어', '수학'])"
      ]
     },
     "execution_count": 18,
     "metadata": {},
     "output_type": "execute_result"
    }
   ],
   "source": [
    "a.keys()"
   ]
  },
  {
   "cell_type": "code",
   "execution_count": 19,
   "id": "reduced-silver",
   "metadata": {},
   "outputs": [
    {
     "data": {
      "text/plain": [
       "dict_values([80, 75, 55])"
      ]
     },
     "execution_count": 19,
     "metadata": {},
     "output_type": "execute_result"
    }
   ],
   "source": [
    "a.values()"
   ]
  },
  {
   "cell_type": "code",
   "execution_count": 20,
   "id": "understood-synthetic",
   "metadata": {},
   "outputs": [
    {
     "data": {
      "text/plain": [
       "dict_items([('국어', 80), ('영어', 75), ('수학', 55)])"
      ]
     },
     "execution_count": 20,
     "metadata": {},
     "output_type": "execute_result"
    }
   ],
   "source": [
    "a.items()"
   ]
  },
  {
   "cell_type": "code",
   "execution_count": 21,
   "id": "agricultural-difficulty",
   "metadata": {},
   "outputs": [
    {
     "data": {
      "text/plain": [
       "70.0"
      ]
     },
     "execution_count": 21,
     "metadata": {},
     "output_type": "execute_result"
    }
   ],
   "source": [
    "sum(a.values())/len(a)"
   ]
  },
  {
   "cell_type": "code",
   "execution_count": null,
   "id": "oriented-thanksgiving",
   "metadata": {},
   "outputs": [],
   "source": []
  }
 ],
 "metadata": {
  "kernelspec": {
   "display_name": "Python 3",
   "language": "python",
   "name": "python3"
  },
  "language_info": {
   "codemirror_mode": {
    "name": "ipython",
    "version": 3
   },
   "file_extension": ".py",
   "mimetype": "text/x-python",
   "name": "python",
   "nbconvert_exporter": "python",
   "pygments_lexer": "ipython3",
   "version": "3.8.8"
  }
 },
 "nbformat": 4,
 "nbformat_minor": 5
}
